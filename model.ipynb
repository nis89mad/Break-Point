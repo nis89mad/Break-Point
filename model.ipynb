{
 "cells": [
  {
   "cell_type": "markdown",
   "id": "4827a738-0d21-4dc3-8af8-310c28d41e3e",
   "metadata": {},
   "source": [
    "# Packages"
   ]
  },
  {
   "cell_type": "code",
   "execution_count": 116,
   "id": "bff88e52-64e3-497e-85a1-99cab3115d22",
   "metadata": {},
   "outputs": [],
   "source": [
    "import pandas as pd\n",
    "import numpy as np\n",
    "from keras.preprocessing.text import Tokenizer\n",
    "from tensorflow.keras.preprocessing.sequence import pad_sequences\n",
    "import matplotlib.pyplot as plt\n",
    "import tensorflow as tf\n",
    "import random\n",
    "import nltk\n",
    "import pickle\n",
    "from sklearn.metrics import precision_recall_curve"
   ]
  },
  {
   "cell_type": "code",
   "execution_count": 24,
   "id": "ca718b2b-920c-4767-85ed-ba131eba954d",
   "metadata": {},
   "outputs": [
    {
     "name": "stderr",
     "output_type": "stream",
     "text": [
      "[nltk_data] Downloading package stopwords to\n",
      "[nltk_data]     C:\\Users\\nisha\\AppData\\Roaming\\nltk_data...\n",
      "[nltk_data]   Unzipping corpora\\stopwords.zip.\n"
     ]
    },
    {
     "data": {
      "text/plain": [
       "True"
      ]
     },
     "execution_count": 24,
     "metadata": {},
     "output_type": "execute_result"
    }
   ],
   "source": [
    "nltk.download('stopwords')"
   ]
  },
  {
   "cell_type": "code",
   "execution_count": 6,
   "id": "f60b7886-8443-42eb-9ba8-b3a665b72626",
   "metadata": {},
   "outputs": [],
   "source": [
    "from nltk.corpus import stopwords"
   ]
  },
  {
   "cell_type": "markdown",
   "id": "8315a582-d28a-4c34-a76f-6df342045881",
   "metadata": {},
   "source": [
    "# Data"
   ]
  },
  {
   "cell_type": "code",
   "execution_count": 75,
   "id": "0271b5c9-2124-41e0-80f1-9e1bc3c184d1",
   "metadata": {},
   "outputs": [],
   "source": [
    "data = pd.read_csv('Suicide_Detection.csv')"
   ]
  },
  {
   "cell_type": "code",
   "execution_count": 5,
   "id": "df5984d9-cf36-4c10-9ae9-1c27dba4bf14",
   "metadata": {},
   "outputs": [
    {
     "data": {
      "text/plain": [
       "(232074, 3)"
      ]
     },
     "execution_count": 5,
     "metadata": {},
     "output_type": "execute_result"
    }
   ],
   "source": [
    "data.shape"
   ]
  },
  {
   "cell_type": "code",
   "execution_count": 6,
   "id": "70bad420-608a-47d8-8c73-32b477ad7ed6",
   "metadata": {},
   "outputs": [
    {
     "data": {
      "text/plain": [
       "class\n",
       "non-suicide    116037\n",
       "suicide        116037\n",
       "dtype: int64"
      ]
     },
     "execution_count": 6,
     "metadata": {},
     "output_type": "execute_result"
    }
   ],
   "source": [
    "# class balance\n",
    "data.groupby('class').size()"
   ]
  },
  {
   "cell_type": "markdown",
   "id": "1da94ff3-5fe2-4ea8-87d4-54e37a021071",
   "metadata": {},
   "source": [
    "This is a balanced dataset"
   ]
  },
  {
   "cell_type": "markdown",
   "id": "71e099fc-505a-4f94-a863-1978820de882",
   "metadata": {
    "tags": []
   },
   "source": [
    "## Sample data"
   ]
  },
  {
   "cell_type": "markdown",
   "id": "34b2fa8a-8dcb-4d14-9a08-f8ddf25d3ee8",
   "metadata": {},
   "source": [
    "### Class - suicide"
   ]
  },
  {
   "cell_type": "code",
   "execution_count": 5,
   "id": "81bcf587-129d-4361-a779-50ccb06030f8",
   "metadata": {},
   "outputs": [
    {
     "name": "stdout",
     "output_type": "stream",
     "text": [
      "0: YeahI don't consider myself depressed or suicidal but there are times when I just know how worthless and fucked up I am and that I deserve to die. I usually get through it with minimal self harm but I know that some day in the future I'm gonna fuck up bad and hate myself for it and kill myself. And that the world will be better off for it. That's pretty much it. \n",
      "1: Who pays when I go to a hospital?Last time I was in a hospital I had health insurance but I just lost my job and am currently without insurance. Will I have to foot the bill if I check myself in? \n",
      "2: I made a mistakeI dated a girl for a year and a half and only worried about her mental health. She was extremely suicidal along with other things. When we broke up, I had noticed that all that time worrying about her made an impact on me. I wasnt watching myself. I guess it just rubbed off a little. Now fast forward, i started talking to another girl who I had such strong feelings for, but my ex was still in the picture. During a week where new girl was a little upset, i talked to old girl and we hooked up kind of. Now under extreme guilt, i confessed to the new girl, essentially ending any hope of a relationship with her telling me she has no respect for me which i deserve. I hate myself so much because of this and almost cant resist the temptation right now because i loved her so much but i ruined it all because i made a dumb mistake. \n",
      "3: Feel like my soul is destroyedHi everyone. I have struggled with major depression and anxiety since age 16. I’m 26 now and it still affects my life in every aspect. Two years ago I had a boyfriend die. The year before that I was in an abusive relationship. The past six months of this year I have lost a grandfather, a grandmother, and a best friend. My other friends have small kids and aren’t as available anymore. I have had to quit two jobs that I really loved. I am currently in a verbally and emotionally abusive relationship and it escalated to physical violence recently (only one time though). I feel as if I just overreact to small things and thats why he gets so angry with me. I dont even know anymore. Today my mom, who is usually my only lifeline, got so fed up with me constantly complaining and being upset that she flipped the fuck out, threw shit around the house and screamed at me and went batshit crazy. I am so numb and at the same time in so much pain. My whole life is imploding. I feel like Im a lost cause and I truly genuinely want to die. I want out of this hell. Life has destroyed my soul, and I dont feel like a person anymore. I feel bad about leaving my family, but I truly think they will be so more at peace without my constant bullshit and living off them because I cant support myself. I know my boyfriend wont really care. I think my plan is to have one last weekend with him this weekend up at a favorite lakehouse spot, have one last Sunday dinner with my family, and then in the middle of the night overdose on my deceased boyfriends grave so the workers will find me in the morning and I wont be too decayed and my parents wont have to find me. I have already begun my goodbye notes, and have made a list of certain things Id like at my funeral. I feel so sad for the little girl that had dreams of being a nurse, a wife, a mother, an activist, a pet adopter, and a homeowner. I feel so sad that my brain has caused this and that I made it worse with shitty life choices. I was just hospitalized for ideations and no, therapy hasnt worked and I have tried so many meds it makes my head spin. Thank you for reading my wall of text. I dont know who else or where else to vent like this without someone calling a fucking ambulance on me. If anyone here believes in prayer, please pray for my soul. \n",
      "4: Just released from hospital and suicide feelings are extremeI was in hospital since sunday for a medical issue, not depression related.  Although they had a psychiatrist analysis while i was there because i was abusing codeine before my admission.\n",
      "\n",
      "I got sent home and got back to my house.  Within minutes of getting in the door i had an extreme breakdown and spent all day on the phone with my psychologist and mental health emergency number who both essentially just left the problem with the other and both are telling me to contact the other.\n",
      "\n",
      "I'm feeling abandoned and alone.  My feelings of suicide are really high and i just want to die.  I'm having constant anxiety attacks and don't feel safe.\n"
     ]
    }
   ],
   "source": [
    "for i, t in enumerate(data[data['class'] == 'suicide'].sample(5).text):\n",
    "    print(f\"{i}: {t}\")"
   ]
  },
  {
   "cell_type": "markdown",
   "id": "e52e88d5-353c-4241-b765-76b338ce1db3",
   "metadata": {},
   "source": [
    "### Class - non-suicide"
   ]
  },
  {
   "cell_type": "code",
   "execution_count": 6,
   "id": "44fda898-ab26-4daa-98c8-c828f2b17d74",
   "metadata": {},
   "outputs": [
    {
     "name": "stdout",
     "output_type": "stream",
     "text": [
      "0: It’s harmless prank time! Let’s use she/them pronouns with trump. \n",
      "\n",
      "Let’s use she/them pronouns with trump. \n",
      "\n",
      "Let’s use she/them pronouns with trump. \n",
      "\n",
      "Let’s use she/them pronouns with trump. \n",
      "\n",
      "Let’s use she/them pronouns with trump. \n",
      "\n",
      "Let’s use she/them pronouns with trump. \n",
      "\n",
      "Let’s use she/them pronouns with trump. \n",
      "\n",
      "Let’s use she/them pronouns with trump.\n",
      "1: Three-way relationship Alright my friends, I’ve got a festering, interesting issue and I need some help. \n",
      "\n",
      "I’m a 17 M, and my best friend is the same, and we both know this 17 F and hang out with her a lot both as a three and individually. \n",
      "\n",
      "My relationship with her is probably best described as friends, who have had sex and would do so again because we are both sexually and emotionally attracted to each other. In fact, we both admitted we would like to be in an official relationship together only a few weeks ago. I stopped this happening because I’m currently upholding a policy of avoiding any romantic emotional investment so I can focus on my studies. \n",
      "\n",
      "The relationship between my best friend and her is harder for me to explain, but is probably best described as two exs who are hung up over each other. They met each other two years ago and underwent a relationship in which my best friend simply sought sexual satisfaction, whilst she was madly in love with him. She has never really gotten over him, and described her love for him as not romantic but very strong — she says she will always care for him. There is, however, certainly a degree of romance attached because they had sex two weeks ago (she did describe it as ‘like break up sex’, though). And whilst he originally felt no emotional attraction towards her, he recently said that he thinks he is ‘hung up over her’. \n",
      "\n",
      "My relationship with my best friend is quite normal for that kind of relationship I think. We’ve been through a lot and been there for each other quite a few times, and ‘share our cards’ when it comes to dilemmas such as this. We’ve both looked at it objectively and agreed that no matter what, as long as we’re on good terms with each other, the problem isn’t catastrophic \n",
      "\n",
      "A resolution is still greatly desired though, because in effect, what we’ve got are two male best friends who are both into a girl who is into both best friends, and that creates a sense of competition, rivalry and jealousy between me and my best friend, and is also just really complicated and quite dysfunctional. \n",
      "\n",
      "I’ve put forward (albeit jokingly with only a degree of seriousness) that we consider a threeway relationship, but I don’t know anything about that. Do any of you? \n",
      "\n",
      "I also more seriously suggested that we all sit down together and put everything on the table and come to some kind of conclusion. Yes people will get hurt but I don’t see many better alternatives. \n",
      "\n",
      "Any thoughts or ideas would be really appreciated. Hope you found it interesting :) I certainly do\n",
      "2: can you guys help me find a somewhat easy job that hires at 15 years old? I've been searching for an hour and the only thing I can find is kroger and chick fil a, the nearest chickfila is too far from where i live and my kroger hates hiring teens. Can you guys help a boy out?\n",
      "3: How short should I cut my hair? Hey guys, gals, and non-binary pals :)\n",
      "\n",
      "So I've been meaning to cut my hair for months now lol and I'll most likely finally cut it this weekend. The thing is, idk how short I should cut it :/ My hair is currently like to my waist and is naturally straight.\n",
      "\n",
      "I'm thinking about cutting it to about an inch or two below my shoulders, maybe a bit more. The shortest I've gone was to my chin and I didn't like it but granted, I was little and didn't know how to style it lol\n",
      "\n",
      "idk what would look good on me and idek if this is the right sub to ask🤣 if it's not, plz tell me what sub would work better lol. \n",
      "\n",
      "Anyways, how short should I cut my hair? there's a pic of myself on my profile for reference lol so you can get a better idea. I hear face shape matters when cutting hair lol. Also, side note: my hair is a bit wavy in the pic cuz it was in braids but the length wasn't that different from how it naturally is. \n",
      "\n",
      "gracias for your guys' help in advance :)\n",
      "\n",
      "k that is all, byeee\n",
      "4: Does anyone else have a rlly boring life? I was looking back at my life the other day because I was having a conversation with someone and i just noticed how uneventful my life rlly is.\n"
     ]
    }
   ],
   "source": [
    "for i, t in enumerate(data[data['class'] == 'non-suicide'].sample(5).text):\n",
    "    print(f\"{i}: {t}\")"
   ]
  },
  {
   "cell_type": "markdown",
   "id": "a819705d-64b8-42ca-9b88-45b58393c61e",
   "metadata": {},
   "source": [
    "### Observations"
   ]
  },
  {
   "cell_type": "markdown",
   "id": "04e30bb6-e221-43d5-9399-505609322618",
   "metadata": {},
   "source": [
    "* Class suicidal text likely to be long than non-suicidal text\n",
    "* Some misspelled words\n",
    "* Some sentences have emojis\n",
    "* Text blobs can be very long, so truncating is needed"
   ]
  },
  {
   "cell_type": "markdown",
   "id": "961133ae-3f62-448e-b78f-f2e0dc744107",
   "metadata": {},
   "source": [
    "# Train-test split"
   ]
  },
  {
   "cell_type": "code",
   "execution_count": 76,
   "id": "0039f861-72b1-4f47-860b-cd6a0fbcaa1b",
   "metadata": {},
   "outputs": [],
   "source": [
    "data_ = data.sample(data.shape[0], random_state=8)"
   ]
  },
  {
   "cell_type": "code",
   "execution_count": 77,
   "id": "810ec762-7d6c-4e6b-bfcf-374bced1ab97",
   "metadata": {},
   "outputs": [],
   "source": [
    "data_['text_lower'] = data_.text.str.lower()"
   ]
  },
  {
   "cell_type": "code",
   "execution_count": 78,
   "id": "d61f1862-c266-4e9c-afd1-5147e5f494bc",
   "metadata": {},
   "outputs": [],
   "source": [
    "data_['label'] = data['class'].apply(lambda x: 1 if x == 'suicide' else 0)"
   ]
  },
  {
   "cell_type": "code",
   "execution_count": 79,
   "id": "d54f93cd-1dfe-48a0-ba04-5baa43f7b6ee",
   "metadata": {},
   "outputs": [],
   "source": [
    "data_.reset_index(drop=True, inplace=True)"
   ]
  },
  {
   "cell_type": "code",
   "execution_count": 80,
   "id": "5be738b5-e809-4970-83cc-2d2db855b521",
   "metadata": {},
   "outputs": [],
   "source": [
    "split = int(0.9 * data_.shape[0])"
   ]
  },
  {
   "cell_type": "code",
   "execution_count": 81,
   "id": "13677693-195d-4baf-910b-98b5d4b5f183",
   "metadata": {},
   "outputs": [],
   "source": [
    "train_sentences = list(data_.text_lower[:split])\n",
    "train_labels = list(data_.label[:split])\n",
    "test_sentences = list(data_.text_lower[split:])\n",
    "test_labels = list(data_.label[split:])"
   ]
  },
  {
   "cell_type": "code",
   "execution_count": 82,
   "id": "936f5ac2-c3c9-4aed-a9a2-5bffcfb87d39",
   "metadata": {},
   "outputs": [
    {
     "data": {
      "text/plain": [
       "(208866, 23208)"
      ]
     },
     "execution_count": 82,
     "metadata": {},
     "output_type": "execute_result"
    }
   ],
   "source": [
    "len(train_sentences), len(test_sentences)"
   ]
  },
  {
   "cell_type": "markdown",
   "id": "c9b2b2d5-62db-4fde-a4b5-4a52cf48d0d3",
   "metadata": {
    "tags": []
   },
   "source": [
    "# Explore text parameters"
   ]
  },
  {
   "cell_type": "markdown",
   "id": "5c44e949-e654-4209-a779-c58dced37da5",
   "metadata": {
    "tags": []
   },
   "source": [
    "## Length of sentences"
   ]
  },
  {
   "cell_type": "markdown",
   "id": "2d5c9ee2-27fa-4182-919f-680c400be3a0",
   "metadata": {},
   "source": [
    "### Label - 0"
   ]
  },
  {
   "cell_type": "code",
   "execution_count": 20,
   "id": "63d9213e-d8aa-40da-971f-64949097d7dd",
   "metadata": {},
   "outputs": [],
   "source": [
    "text_len_lab_0 = [len(s) for s in train_sentences[train_labels == 0]]"
   ]
  },
  {
   "cell_type": "code",
   "execution_count": 22,
   "id": "0b759861-4009-4ed8-a098-e6bb29e0a162",
   "metadata": {},
   "outputs": [
    {
     "data": {
      "text/plain": [
       "(40106, 8)"
      ]
     },
     "execution_count": 22,
     "metadata": {},
     "output_type": "execute_result"
    }
   ],
   "source": [
    "max(text_len_lab_0), min(text_len_lab_0)"
   ]
  },
  {
   "cell_type": "code",
   "execution_count": 27,
   "id": "037e9131-3b63-4d0f-adcd-14a6778d88b9",
   "metadata": {},
   "outputs": [
    {
     "data": {
      "text/plain": [
       "(166.0, 321.0)"
      ]
     },
     "execution_count": 27,
     "metadata": {},
     "output_type": "execute_result"
    }
   ],
   "source": [
    "np.percentile(text_len_lab_0, 50), np.percentile(text_len_lab_0, 75)"
   ]
  },
  {
   "cell_type": "markdown",
   "id": "04b9380b-3233-4e02-92e6-9cbf082dcd2d",
   "metadata": {},
   "source": [
    "### Label - 1"
   ]
  },
  {
   "cell_type": "code",
   "execution_count": 24,
   "id": "b3d058e6-aaa1-4de9-bdc3-ff5a9a39a439",
   "metadata": {},
   "outputs": [],
   "source": [
    "text_len_lab_1 = [len(s) for s in train_sentences[train_labels == 1]]"
   ]
  },
  {
   "cell_type": "code",
   "execution_count": 25,
   "id": "5e8dd787-950a-4f7a-b8f7-86f20df76cca",
   "metadata": {},
   "outputs": [
    {
     "data": {
      "text/plain": [
       "(40297, 3)"
      ]
     },
     "execution_count": 25,
     "metadata": {},
     "output_type": "execute_result"
    }
   ],
   "source": [
    "max(text_len_lab_1), min(text_len_lab_1)"
   ]
  },
  {
   "cell_type": "code",
   "execution_count": 28,
   "id": "c0233cdb-2adf-49b1-b1b4-906def352ce7",
   "metadata": {},
   "outputs": [
    {
     "data": {
      "text/plain": [
       "(654.0, 1294.0)"
      ]
     },
     "execution_count": 28,
     "metadata": {},
     "output_type": "execute_result"
    }
   ],
   "source": [
    "np.percentile(text_len_lab_1, 50), np.percentile(text_len_lab_1, 75)"
   ]
  },
  {
   "cell_type": "markdown",
   "id": "cd6f150c-e6c3-4f70-80a0-39d35c5b41bb",
   "metadata": {},
   "source": [
    "Suicide text seems to lengthy compared to non-suicidal text (50th percentile for number words in a blob 654 vs 166)"
   ]
  },
  {
   "cell_type": "markdown",
   "id": "75fe1c03-a594-4d21-b8fa-b2b71477055c",
   "metadata": {},
   "source": [
    "## Unique words"
   ]
  },
  {
   "cell_type": "code",
   "execution_count": 47,
   "id": "d4a5d70a-ba84-46f3-98ae-a7818691855f",
   "metadata": {},
   "outputs": [],
   "source": [
    "tokenizer = Tokenizer()\n",
    "tokenizer.fit_on_texts(train_sentences)\n",
    "word_counts = tokenizer.word_counts"
   ]
  },
  {
   "cell_type": "code",
   "execution_count": 54,
   "id": "6e04e435-20ab-44bb-b777-4844fcaa1b37",
   "metadata": {},
   "outputs": [
    {
     "data": {
      "text/plain": [
       "190576"
      ]
     },
     "execution_count": 54,
     "metadata": {},
     "output_type": "execute_result"
    }
   ],
   "source": [
    "# unique words\n",
    "len(word_counts)"
   ]
  },
  {
   "cell_type": "code",
   "execution_count": 55,
   "id": "b2314ab0-af0e-4b0b-a482-60dadb190989",
   "metadata": {},
   "outputs": [],
   "source": [
    "w_cnts = [v for k, v in word_counts.items()]"
   ]
  },
  {
   "cell_type": "code",
   "execution_count": 56,
   "id": "061c7856-a687-4642-a1c0-bde4c257acbd",
   "metadata": {},
   "outputs": [
    {
     "data": {
      "text/plain": [
       "(1, 1579091)"
      ]
     },
     "execution_count": 56,
     "metadata": {},
     "output_type": "execute_result"
    }
   ],
   "source": [
    "min(w_cnts), max(w_cnts)"
   ]
  },
  {
   "cell_type": "code",
   "execution_count": 75,
   "id": "b2a84826-afcc-46d8-9788-bcfd80ed0afc",
   "metadata": {},
   "outputs": [
    {
     "data": {
      "text/plain": [
       "(8.0, 18.0)"
      ]
     },
     "execution_count": 75,
     "metadata": {},
     "output_type": "execute_result"
    }
   ],
   "source": [
    "np.percentile(w_cnts, 85), np.percentile(w_cnts, 90)"
   ]
  },
  {
   "cell_type": "markdown",
   "id": "0ff569f7-2ba9-4d4f-bcaf-e7b2104f25d0",
   "metadata": {},
   "source": [
    "Only 10% of the words have significant number of occurrences (which 18 or more occurrences)"
   ]
  },
  {
   "cell_type": "markdown",
   "id": "69a9b7f9-70ab-47da-9f02-621638a1095e",
   "metadata": {},
   "source": [
    "# Utility functions"
   ]
  },
  {
   "cell_type": "code",
   "execution_count": 12,
   "id": "fd92eac7-4acc-48f2-89a6-5c86d7265d58",
   "metadata": {},
   "outputs": [],
   "source": [
    "# Plot Utility\n",
    "def plot_graphs(history, string):\n",
    "    plt.plot(history.history[string])\n",
    "    plt.plot(history.history['val_'+string])\n",
    "    plt.xlabel(\"Epochs\")\n",
    "    plt.ylabel(string)\n",
    "    plt.legend([string, 'val_'+string])\n",
    "    plt.show()"
   ]
  },
  {
   "cell_type": "markdown",
   "id": "f9c1e79f-5608-4cb0-bf7e-1bcfc7417c95",
   "metadata": {
    "tags": []
   },
   "source": [
    "# Find best architecture and parameters"
   ]
  },
  {
   "cell_type": "markdown",
   "id": "9ca39691-1784-4bb6-8c94-43b9cbd26b2e",
   "metadata": {},
   "source": [
    "Dev set is created to find model hyperparemeters faster"
   ]
  },
  {
   "cell_type": "code",
   "execution_count": 14,
   "id": "b255cedb-61fa-47be-b166-1d57af070446",
   "metadata": {},
   "outputs": [],
   "source": [
    "dev_train_sentences = train_sentences[:5000]\n",
    "dev_train_labels = train_labels[:5000]"
   ]
  },
  {
   "cell_type": "code",
   "execution_count": 15,
   "id": "d6ac98ca-ac35-4e28-b3c2-46b7da970f3f",
   "metadata": {},
   "outputs": [],
   "source": [
    "dev_test_sentences = test_sentences[:1000]\n",
    "dev_test_labels = test_labels[:1000]"
   ]
  },
  {
   "cell_type": "code",
   "execution_count": 17,
   "id": "c08791e7-f0c2-40e2-a588-216df2cf0b4f",
   "metadata": {},
   "outputs": [
    {
     "data": {
      "text/plain": [
       "[\"i feel horrible. i don't know where to post this.\\n\\ni feel absolutely horrible.\\n\\ni can't sleep,i'm burnt out,i have no motivation to do anything and i'm done with my fucking life.\\n\\nlast place i thought i can find help is no more,so i'm back on reddit.\\n\\neverything is falling apart and i can't keep my shit together.\\n\\nmy parents became true assholes and play on my emotions which fucks with my head.\\n\\ni should kill myself\",\n",
       " \"how much pizotifen (1.5mg) would it take to kill myself?i'm a 20 year old male, who weighs 9st 8lbs and take 2 (1.5mg) pizotifen tablets each night to help with both migraines and sleep. however, for little over a year now i have wanted to end my life, nothing seems to have meaning for me anymore, i'm completely desensitised to most emotion.\\n\\nhow many tablets would it take for me to die, just out of curiosity. i am not currently in the mindset of killing myself as i need to be around to watch my nephew grow up, but... if worst comes to worst, it would be nice to know the amount. \\n\\nthank you for your time.\",\n",
       " \"damn my mental state really do be collapsing i knew getting perfect scores in high school was gonna be hard and i knew i had to get rid of all my hobbies and free time but even giving all of my free time away isn't enough to keep the grades perfect. doing school work until 9 pm every day is really beginning to affect me.\\n\\nmy grades are unbelievable but man do i feel hollow.\",\n",
       " \"it's been the worst day ever.i've been thinking about doing it for a year. had a few bad attempts, but now i think i'm perfectly set-up for it. it's been really shit all alone, without anybody to talk with, i've tried making friends, but they would disappear soon in max a week and i'm tired of this bullshit, all i asked for is somebody i could talk with, but that was too much to ask for, at this point i'm just a useless piece of shit, i don't really want to keep living like this, i just wanted a family who actually cared, not a father who just disappeared 10years ago and thinks i can look at him as one, and a mother who keeps telling me how i never do anything, always just doing nothing even when i do shit then it's wrong and it's kind of shit not going to lie to y'all, it sucks when whatever you do it's never good enough snd it'll never be good enough because you aren't meant to be, it fucking hurts that i'm here doing everything and fuckers just say how i'm not good enough. hopefully i don't wake up ever because i'm telling y'all that this is the worst thing that could've happened ever. sadly i'm still here, i can't find joy anymore, it doesn't exist anymore inside me, i can't even fake smile like i used to. i've fucked up and you can say that suicide is for the easy and life is hard bullshit, but i don't really care at this point. by the time you're reading this long ass text i'm not alive so don't waste your time here, go save somebody else, if you can.\\ni really hate that nobody would ever ask me if i'm fine, not like it really matters because after i say the usual i'm fine or i'm okay then nobody asks back if that's really true. i'm not sure why i'm typing so much of random shit, i guess that's how a last message should be.\\ni'm sad that i couldn't save anybody, i don't actually care that nobody can save me, because nobody tried ever to do so. i'll just bleed out in the cold, looking at the trees or something lol. thanks to everyone who ever said hello, or wasted his time talking to me, maybe if you said hi more then i wouldn't be here right now, but people do mistake, i'm one of those mistakes, i shouldn't be here, i wish i didn't fuck up back in the days but now i'm onto it for real. shoutouts to like nobody really, because nobody cared enough that i wouldn't be here now. fuck my family especially my parents for always making me feel bad about myself, fuck my brother for always hitting me so hard that i wish i wasn't alive. nobody to thank really except the people who make music that made me survive for quite a few months, sadly i won't be here for the next billie song in november but i hope you'll enjoy it. i always liked writing long texts even though i'm not any good at it and sadly i never had time really for this. why the fuck am i even trying? i should just finish this up real quick then do my things before i don't have the chances.\\n\\n-that guy that you wouldn't talk to ever.\",\n",
       " \"haven't prepared for an interview, losing my job soon, just going to kill myself after?i dont know what to do because i kinda want to live now, but i have so much stuff to do if i do decide to live. like preparation for an interview i was told about like 3 months ago, which can be as early as next week.\\n? what to do?\"]"
      ]
     },
     "execution_count": 17,
     "metadata": {},
     "output_type": "execute_result"
    }
   ],
   "source": [
    "dev_train_sentences[:5]"
   ]
  },
  {
   "cell_type": "markdown",
   "id": "1e4f1235-40b9-47d9-8d0e-bc284a18df33",
   "metadata": {},
   "source": [
    "## Understand vocab_size, max_length, embedding_dim, lstm_dim, dense_dim "
   ]
  },
  {
   "cell_type": "markdown",
   "id": "c6a9523d-4f6b-469b-9bdc-b160421a929b",
   "metadata": {},
   "source": [
    "Tunning for hyperparameters one at a time"
   ]
  },
  {
   "cell_type": "code",
   "execution_count": 10,
   "id": "524dbd52-d7a0-419c-ab38-a9ee17281bd4",
   "metadata": {},
   "outputs": [],
   "source": [
    "trunc_type='post'\n",
    "oov_tok = \"<OOV>\""
   ]
  },
  {
   "cell_type": "code",
   "execution_count": 87,
   "id": "a0c619f1-63ed-4cee-ab69-5e46a98064d1",
   "metadata": {},
   "outputs": [],
   "source": [
    "def get_padded_sequences(train_sentences, test_sentences, vocab_size, oov_tok, max_length, trunc_type):\n",
    "    tokenizer = Tokenizer(num_words=vocab_size, oov_token=oov_tok)\n",
    "    tokenizer.fit_on_texts(train_sentences)\n",
    "    \n",
    "    with open('tokenizer.pickle', 'wb') as f:\n",
    "        pickle.dump(tokenizer, f)\n",
    "    \n",
    "    train_sequences = tokenizer.texts_to_sequences(train_sentences)\n",
    "    train_padded = pad_sequences(train_sequences, maxlen=max_length, truncating=trunc_type)\n",
    "    test_sequences = tokenizer.texts_to_sequences(test_sentences)\n",
    "    test_padded = pad_sequences(test_sequences, maxlen=max_length, truncating=trunc_type)\n",
    "    \n",
    "    return train_padded, test_padded"
   ]
  },
  {
   "cell_type": "code",
   "execution_count": 20,
   "id": "2fe06bb0-f5af-4b45-97be-e39467499862",
   "metadata": {},
   "outputs": [],
   "source": [
    "def train_model(train_padded, train_labels, test_padded, test_labels, vocab_size, embedding_dim, max_length, lstm_dim, dense_dim):\n",
    "    model_lstm = tf.keras.Sequential([\n",
    "        tf.keras.layers.Embedding(vocab_size, embedding_dim, input_length=max_length),\n",
    "        tf.keras.layers.Bidirectional(tf.keras.layers.LSTM(lstm_dim)),\n",
    "        tf.keras.layers.Dense(dense_dim, activation='relu'),\n",
    "        tf.keras.layers.Dense(1, activation='sigmoid')\n",
    "    ])\n",
    "\n",
    "    model_lstm.compile(loss='binary_crossentropy',optimizer='adam',metrics=['accuracy'])\n",
    "    history = model_lstm.fit(train_padded, np.array(train_labels), batch_size=1024, epochs=50, \n",
    "                                    validation_data=(test_padded, np.array(test_labels)), verbose=0)\n",
    "    \n",
    "    return history"
   ]
  },
  {
   "cell_type": "code",
   "execution_count": 43,
   "id": "dcb95ecb-c1c9-4cf2-98d7-efdbc4e19623",
   "metadata": {},
   "outputs": [],
   "source": [
    "def check_val_accuracy(vocab_size, max_length, embedding_dim, lstm_dim, dense_dim, train_s=dev_train_sentences, \n",
    "                       test_s=dev_test_sentences):\n",
    "    dev_train_padded, dev_test_padded = get_padded_sequences(train_s, test_s, vocab_size, oov_tok, max_length, \n",
    "                                                             trunc_type)\n",
    "    history = train_model(dev_train_padded, dev_train_labels, dev_test_padded, dev_test_labels, vocab_size, embedding_dim, max_length, \n",
    "                          lstm_dim, dense_dim)\n",
    "    print(max(history.history['val_accuracy']))"
   ]
  },
  {
   "cell_type": "code",
   "execution_count": 32,
   "id": "bb694217-a1c4-44da-a7f8-d2ec7e14908a",
   "metadata": {},
   "outputs": [
    {
     "name": "stdout",
     "output_type": "stream",
     "text": [
      "0.8939999938011169\n"
     ]
    }
   ],
   "source": [
    "check_val_accuracy(vocab_size=20000, max_length=300, embedding_dim=32, lstm_dim=64, dense_dim=16)"
   ]
  },
  {
   "cell_type": "code",
   "execution_count": 33,
   "id": "07e2eb96-ddc6-45e5-925c-3137214ddf19",
   "metadata": {},
   "outputs": [
    {
     "name": "stdout",
     "output_type": "stream",
     "text": [
      "0.8970000147819519\n"
     ]
    }
   ],
   "source": [
    "check_val_accuracy(vocab_size=25000, max_length=300, embedding_dim=32, lstm_dim=64, dense_dim=16)"
   ]
  },
  {
   "cell_type": "code",
   "execution_count": 34,
   "id": "68232de5-f4c4-4373-8e4e-04163318c68c",
   "metadata": {},
   "outputs": [
    {
     "name": "stdout",
     "output_type": "stream",
     "text": [
      "0.8889999985694885\n"
     ]
    }
   ],
   "source": [
    "check_val_accuracy(vocab_size=15000, max_length=300, embedding_dim=32, lstm_dim=64, dense_dim=16)"
   ]
  },
  {
   "cell_type": "code",
   "execution_count": 50,
   "id": "0ba5526c-3033-4643-aa75-5cdf4682b637",
   "metadata": {},
   "outputs": [
    {
     "name": "stdout",
     "output_type": "stream",
     "text": [
      "0.8939999938011169\n"
     ]
    }
   ],
   "source": [
    "check_val_accuracy(vocab_size=30000, max_length=300, embedding_dim=32, lstm_dim=64, dense_dim=16)"
   ]
  },
  {
   "cell_type": "markdown",
   "id": "c2db627f-8602-472c-8d42-5638e428f961",
   "metadata": {},
   "source": [
    "Best vocab size seems to be 25000 words"
   ]
  },
  {
   "cell_type": "code",
   "execution_count": 52,
   "id": "65ba77b5-59b3-430a-8e93-2291258a1331",
   "metadata": {},
   "outputs": [
    {
     "name": "stdout",
     "output_type": "stream",
     "text": [
      "0.8970000147819519\n"
     ]
    }
   ],
   "source": [
    "check_val_accuracy(vocab_size=25000, max_length=200, embedding_dim=32, lstm_dim=64, dense_dim=16)"
   ]
  },
  {
   "cell_type": "code",
   "execution_count": 53,
   "id": "d89aa1ec-4276-4fca-963a-f5f482a8994a",
   "metadata": {},
   "outputs": [
    {
     "name": "stdout",
     "output_type": "stream",
     "text": [
      "0.8930000066757202\n"
     ]
    }
   ],
   "source": [
    "check_val_accuracy(vocab_size=25000, max_length=400, embedding_dim=32, lstm_dim=64, dense_dim=16)"
   ]
  },
  {
   "cell_type": "markdown",
   "id": "fcee90c5-c2fd-4075-a48b-c861bf041116",
   "metadata": {},
   "source": [
    "Keeping max length at 300 words"
   ]
  },
  {
   "cell_type": "code",
   "execution_count": 56,
   "id": "7528aaa3-079c-436f-a229-43c0f246b201",
   "metadata": {},
   "outputs": [
    {
     "name": "stdout",
     "output_type": "stream",
     "text": [
      "0.8989999890327454\n"
     ]
    }
   ],
   "source": [
    "check_val_accuracy(vocab_size=25000, max_length=300, embedding_dim=64, lstm_dim=64, dense_dim=16)"
   ]
  },
  {
   "cell_type": "code",
   "execution_count": 57,
   "id": "73a944db-6fee-450b-8e22-605bab95ef36",
   "metadata": {},
   "outputs": [
    {
     "name": "stdout",
     "output_type": "stream",
     "text": [
      "0.8970000147819519\n"
     ]
    }
   ],
   "source": [
    "check_val_accuracy(vocab_size=25000, max_length=300, embedding_dim=16, lstm_dim=64, dense_dim=16)"
   ]
  },
  {
   "cell_type": "code",
   "execution_count": 58,
   "id": "48dbdfc8-50d1-4afa-ab42-abec7ca402c0",
   "metadata": {},
   "outputs": [
    {
     "name": "stdout",
     "output_type": "stream",
     "text": [
      "0.890999972820282\n"
     ]
    }
   ],
   "source": [
    "check_val_accuracy(vocab_size=25000, max_length=300, embedding_dim=128, lstm_dim=64, dense_dim=16)"
   ]
  },
  {
   "cell_type": "markdown",
   "id": "e827d464-680c-41ea-8feb-bccfb5ce28ae",
   "metadata": {},
   "source": [
    "Keeping embedding_dim at 64 words"
   ]
  },
  {
   "cell_type": "code",
   "execution_count": 59,
   "id": "5f8e987f-c500-4996-967c-08c1bc3c3fcd",
   "metadata": {},
   "outputs": [
    {
     "name": "stdout",
     "output_type": "stream",
     "text": [
      "0.8989999890327454\n"
     ]
    }
   ],
   "source": [
    "check_val_accuracy(vocab_size=25000, max_length=300, embedding_dim=64, lstm_dim=32, dense_dim=16)"
   ]
  },
  {
   "cell_type": "markdown",
   "id": "fc28305c-174b-4336-a36a-75c1997aeb91",
   "metadata": {},
   "source": [
    "Keeping lstm_dim at 64"
   ]
  },
  {
   "cell_type": "code",
   "execution_count": 22,
   "id": "29cdec6f-2f78-4aef-b2fb-b7cf43e1e363",
   "metadata": {},
   "outputs": [
    {
     "name": "stdout",
     "output_type": "stream",
     "text": [
      "0.8989999890327454\n"
     ]
    }
   ],
   "source": [
    "check_val_accuracy(vocab_size=25000, max_length=300, embedding_dim=64, lstm_dim=64, dense_dim=8)"
   ]
  },
  {
   "cell_type": "code",
   "execution_count": 23,
   "id": "352363a2-32e9-4da7-a45f-6eb725ba4054",
   "metadata": {},
   "outputs": [
    {
     "name": "stdout",
     "output_type": "stream",
     "text": [
      "0.8980000019073486\n"
     ]
    }
   ],
   "source": [
    "check_val_accuracy(vocab_size=25000, max_length=300, embedding_dim=64, lstm_dim=64, dense_dim=32)"
   ]
  },
  {
   "cell_type": "markdown",
   "id": "b2acb926-4a05-4b8b-b3b8-af1684e4d5a2",
   "metadata": {},
   "source": [
    "Keeping dense_dim at 16"
   ]
  },
  {
   "cell_type": "markdown",
   "id": "d2aa611b-6d69-4e9f-97e4-c3aeddeb1c66",
   "metadata": {},
   "source": [
    "## Remove stopwords"
   ]
  },
  {
   "cell_type": "markdown",
   "id": "70ba45bf-f124-46d1-9cf9-032eb2c15f15",
   "metadata": {},
   "source": [
    "Check if removing stop words helps in model performance"
   ]
  },
  {
   "cell_type": "code",
   "execution_count": 29,
   "id": "8b003744-92e7-44cc-b5b9-0d9e69c397be",
   "metadata": {},
   "outputs": [],
   "source": [
    "stop_words = set(stopwords.words('english'))"
   ]
  },
  {
   "cell_type": "code",
   "execution_count": 30,
   "id": "18a080ac-e6e1-4fcf-9cb2-60c653b87314",
   "metadata": {},
   "outputs": [
    {
     "data": {
      "text/plain": [
       "179"
      ]
     },
     "execution_count": 30,
     "metadata": {},
     "output_type": "execute_result"
    }
   ],
   "source": [
    "len(stop_words)"
   ]
  },
  {
   "cell_type": "code",
   "execution_count": 32,
   "id": "315ab49b-183f-4f8b-8c79-d3aa9d3f7433",
   "metadata": {},
   "outputs": [],
   "source": [
    "dev_train_sentences_stp = []"
   ]
  },
  {
   "cell_type": "code",
   "execution_count": 39,
   "id": "15bb3938-4aea-4c13-bd5a-a6d7e615053b",
   "metadata": {},
   "outputs": [],
   "source": [
    "for s in dev_train_sentences:\n",
    "    dev_train_sentences_stp.append(\" \".join([w for w in s.split() if w not in stop_words]))"
   ]
  },
  {
   "cell_type": "code",
   "execution_count": 42,
   "id": "77b50aa1-e1f5-4eff-b7ac-6196e260d442",
   "metadata": {},
   "outputs": [],
   "source": [
    "dev_test_sentences_stp = []\n",
    "for s in dev_test_sentences:\n",
    "    dev_test_sentences_stp.append(\" \".join([w for w in s.split() if w not in stop_words]))"
   ]
  },
  {
   "cell_type": "code",
   "execution_count": 47,
   "id": "bf24f780-0381-48d9-a32f-0058a0e444d6",
   "metadata": {},
   "outputs": [
    {
     "name": "stdout",
     "output_type": "stream",
     "text": [
      "0.8999999761581421\n"
     ]
    }
   ],
   "source": [
    "check_val_accuracy(vocab_size=25000, max_length=300, embedding_dim=64, lstm_dim=64, dense_dim=16, train_s=dev_train_sentences_stp, \n",
    "                       test_s=dev_test_sentences_stp)"
   ]
  },
  {
   "cell_type": "markdown",
   "id": "1ba721ef-e6a0-4ee8-9ddf-d9baf480245a",
   "metadata": {},
   "source": [
    "There is some improvement from removing stopwords "
   ]
  },
  {
   "cell_type": "markdown",
   "id": "45a180b8-5828-4a39-8c50-cdff94adcbc3",
   "metadata": {},
   "source": [
    "# Final model"
   ]
  },
  {
   "cell_type": "markdown",
   "id": "e37e3a59-16f4-4eb0-91eb-f95880c11486",
   "metadata": {},
   "source": [
    "## Stop word removal"
   ]
  },
  {
   "cell_type": "code",
   "execution_count": 8,
   "id": "67a8a07a-808e-49c8-a47b-9e104ee92201",
   "metadata": {},
   "outputs": [],
   "source": [
    "stop_words = set(stopwords.words('english'))"
   ]
  },
  {
   "cell_type": "code",
   "execution_count": 83,
   "id": "4f5e778d-b683-43d7-879c-97f1ec4e98ed",
   "metadata": {},
   "outputs": [],
   "source": [
    "train_sentences_stp = []\n",
    "for s in train_sentences:\n",
    "    train_sentences_stp.append(\" \".join([w for w in s.split() if w not in stop_words]))"
   ]
  },
  {
   "cell_type": "code",
   "execution_count": 84,
   "id": "3072718a-1f9e-400e-8868-4fe0aa3a00e2",
   "metadata": {},
   "outputs": [],
   "source": [
    "test_sentences_stp = []\n",
    "for s in test_sentences:\n",
    "    test_sentences_stp.append(\" \".join([w for w in s.split() if w not in stop_words]))"
   ]
  },
  {
   "cell_type": "code",
   "execution_count": 85,
   "id": "6aeaf09b-cdc0-4595-bc76-9624ec09ca22",
   "metadata": {},
   "outputs": [
    {
     "data": {
      "text/plain": [
       "(208866, 23208)"
      ]
     },
     "execution_count": 85,
     "metadata": {},
     "output_type": "execute_result"
    }
   ],
   "source": [
    "len(train_sentences_stp), len(test_sentences_stp)"
   ]
  },
  {
   "cell_type": "markdown",
   "id": "87069177-377c-42d2-9534-2c5ba429877f",
   "metadata": {},
   "source": [
    "## Model"
   ]
  },
  {
   "cell_type": "code",
   "execution_count": 88,
   "id": "12a5364f-d28c-4279-89be-3594f8b823ab",
   "metadata": {},
   "outputs": [],
   "source": [
    "train_padded, test_padded = get_padded_sequences(train_sentences_stp, test_sentences_stp, 25000, oov_tok, 300, trunc_type)"
   ]
  },
  {
   "cell_type": "code",
   "execution_count": 22,
   "id": "9cdb5cf9-2032-496c-8a0b-72a0628953b9",
   "metadata": {},
   "outputs": [],
   "source": [
    "# find best validation model\n",
    "checkpoint = tf.keras.callbacks.ModelCheckpoint(filepath='best_model.h5',\n",
    "                                                monitor='val_accuracy',\n",
    "                                                save_best_only=True,\n",
    "                                                save_weights_only=False)"
   ]
  },
  {
   "cell_type": "code",
   "execution_count": 32,
   "id": "68a758d0-e733-4916-9b88-80afc0f93233",
   "metadata": {},
   "outputs": [],
   "source": [
    "model_lstm = tf.keras.Sequential([\n",
    "    tf.keras.layers.Embedding(25000, 64, input_length=300),\n",
    "    tf.keras.layers.Bidirectional(tf.keras.layers.LSTM(64)),\n",
    "    tf.keras.layers.Dropout(0.8),\n",
    "    tf.keras.layers.Dense(16, activation='relu'),\n",
    "    tf.keras.layers.Dense(1, activation='sigmoid')\n",
    "])\n",
    "\n",
    "model_lstm.compile(loss='binary_crossentropy',optimizer='adam',metrics=['accuracy'])"
   ]
  },
  {
   "cell_type": "code",
   "execution_count": 33,
   "id": "fba58dc9-7188-45f2-a542-767e95517869",
   "metadata": {},
   "outputs": [
    {
     "data": {
      "text/plain": [
       "((208866, 300), (23208, 300))"
      ]
     },
     "execution_count": 33,
     "metadata": {},
     "output_type": "execute_result"
    }
   ],
   "source": [
    "train_padded.shape, test_padded.shape"
   ]
  },
  {
   "cell_type": "code",
   "execution_count": 34,
   "id": "1c1cba35-149b-4a4e-b01c-4455d52cf7f2",
   "metadata": {},
   "outputs": [
    {
     "name": "stdout",
     "output_type": "stream",
     "text": [
      "Epoch 1/50\n",
      "204/204 [==============================] - 35s 156ms/step - loss: 0.3008 - accuracy: 0.8771 - val_loss: 0.1777 - val_accuracy: 0.9360\n",
      "Epoch 2/50\n",
      "204/204 [==============================] - 31s 153ms/step - loss: 0.1658 - accuracy: 0.9444 - val_loss: 0.1688 - val_accuracy: 0.9393\n",
      "Epoch 3/50\n",
      "204/204 [==============================] - 31s 153ms/step - loss: 0.1448 - accuracy: 0.9518 - val_loss: 0.1728 - val_accuracy: 0.9405\n",
      "Epoch 4/50\n",
      "204/204 [==============================] - 31s 153ms/step - loss: 0.1426 - accuracy: 0.9524 - val_loss: 0.1637 - val_accuracy: 0.9417\n",
      "Epoch 5/50\n",
      "204/204 [==============================] - 31s 153ms/step - loss: 0.1168 - accuracy: 0.9612 - val_loss: 0.1588 - val_accuracy: 0.9444\n",
      "Epoch 6/50\n",
      "204/204 [==============================] - 31s 154ms/step - loss: 0.1028 - accuracy: 0.9663 - val_loss: 0.1757 - val_accuracy: 0.9459\n",
      "Epoch 7/50\n",
      "204/204 [==============================] - 31s 153ms/step - loss: 0.0910 - accuracy: 0.9706 - val_loss: 0.1639 - val_accuracy: 0.9455\n",
      "Epoch 8/50\n",
      "204/204 [==============================] - 31s 153ms/step - loss: 0.0803 - accuracy: 0.9743 - val_loss: 0.1613 - val_accuracy: 0.9468\n",
      "Epoch 9/50\n",
      "204/204 [==============================] - 31s 153ms/step - loss: 0.0760 - accuracy: 0.9758 - val_loss: 0.1776 - val_accuracy: 0.9434\n",
      "Epoch 10/50\n",
      "204/204 [==============================] - 31s 154ms/step - loss: 0.0681 - accuracy: 0.9785 - val_loss: 0.1791 - val_accuracy: 0.9467\n",
      "Epoch 11/50\n",
      "204/204 [==============================] - 31s 153ms/step - loss: 0.0625 - accuracy: 0.9804 - val_loss: 0.1857 - val_accuracy: 0.9463\n",
      "Epoch 12/50\n",
      "204/204 [==============================] - 31s 153ms/step - loss: 0.0536 - accuracy: 0.9834 - val_loss: 0.1978 - val_accuracy: 0.9450\n",
      "Epoch 13/50\n",
      "204/204 [==============================] - 31s 154ms/step - loss: 0.0546 - accuracy: 0.9828 - val_loss: 0.2134 - val_accuracy: 0.9436\n",
      "Epoch 14/50\n",
      "204/204 [==============================] - 31s 154ms/step - loss: 0.0466 - accuracy: 0.9854 - val_loss: 0.2154 - val_accuracy: 0.9431\n",
      "Epoch 15/50\n",
      "204/204 [==============================] - 32s 156ms/step - loss: 0.0462 - accuracy: 0.9858 - val_loss: 0.2341 - val_accuracy: 0.9459\n",
      "Epoch 16/50\n",
      "204/204 [==============================] - 37s 181ms/step - loss: 0.0470 - accuracy: 0.9852 - val_loss: 0.2258 - val_accuracy: 0.9440\n",
      "Epoch 17/50\n",
      "204/204 [==============================] - 37s 182ms/step - loss: 0.0398 - accuracy: 0.9877 - val_loss: 0.2511 - val_accuracy: 0.9450\n",
      "Epoch 18/50\n",
      "204/204 [==============================] - 36s 179ms/step - loss: 0.0371 - accuracy: 0.9887 - val_loss: 0.2427 - val_accuracy: 0.9432\n",
      "Epoch 19/50\n",
      "204/204 [==============================] - 37s 181ms/step - loss: 0.0391 - accuracy: 0.9878 - val_loss: 0.2374 - val_accuracy: 0.9443\n",
      "Epoch 20/50\n",
      "204/204 [==============================] - 34s 165ms/step - loss: 0.0406 - accuracy: 0.9874 - val_loss: 0.2154 - val_accuracy: 0.9426\n",
      "Epoch 21/50\n",
      "204/204 [==============================] - 31s 153ms/step - loss: 0.0336 - accuracy: 0.9895 - val_loss: 0.2831 - val_accuracy: 0.9404\n",
      "Epoch 22/50\n",
      "204/204 [==============================] - 31s 154ms/step - loss: 0.0350 - accuracy: 0.9893 - val_loss: 0.2667 - val_accuracy: 0.9417\n",
      "Epoch 23/50\n",
      "204/204 [==============================] - 31s 153ms/step - loss: 0.0364 - accuracy: 0.9890 - val_loss: 0.2707 - val_accuracy: 0.9420\n",
      "Epoch 24/50\n",
      "204/204 [==============================] - 31s 153ms/step - loss: 0.0284 - accuracy: 0.9917 - val_loss: 0.3127 - val_accuracy: 0.9398\n",
      "Epoch 25/50\n",
      "204/204 [==============================] - 31s 153ms/step - loss: 0.0243 - accuracy: 0.9929 - val_loss: 0.2973 - val_accuracy: 0.9405\n",
      "Epoch 26/50\n",
      "204/204 [==============================] - 31s 153ms/step - loss: 0.0304 - accuracy: 0.9910 - val_loss: 0.2872 - val_accuracy: 0.9413\n",
      "Epoch 27/50\n",
      "204/204 [==============================] - 31s 153ms/step - loss: 0.0274 - accuracy: 0.9917 - val_loss: 0.2873 - val_accuracy: 0.9415\n",
      "Epoch 28/50\n",
      "204/204 [==============================] - 31s 154ms/step - loss: 0.0223 - accuracy: 0.9934 - val_loss: 0.3354 - val_accuracy: 0.9409\n",
      "Epoch 29/50\n",
      "204/204 [==============================] - 31s 154ms/step - loss: 0.0227 - accuracy: 0.9934 - val_loss: 0.3248 - val_accuracy: 0.9415\n",
      "Epoch 30/50\n",
      "204/204 [==============================] - 31s 153ms/step - loss: 0.0196 - accuracy: 0.9944 - val_loss: 0.3313 - val_accuracy: 0.9401\n",
      "Epoch 31/50\n",
      "204/204 [==============================] - 32s 155ms/step - loss: 0.0227 - accuracy: 0.9934 - val_loss: 0.3351 - val_accuracy: 0.9410\n",
      "Epoch 32/50\n",
      "204/204 [==============================] - 32s 156ms/step - loss: 0.0190 - accuracy: 0.9946 - val_loss: 0.4274 - val_accuracy: 0.9374\n",
      "Epoch 33/50\n",
      "204/204 [==============================] - 31s 154ms/step - loss: 0.0182 - accuracy: 0.9948 - val_loss: 0.3699 - val_accuracy: 0.9400\n",
      "Epoch 34/50\n",
      "204/204 [==============================] - 31s 153ms/step - loss: 0.0200 - accuracy: 0.9941 - val_loss: 0.3631 - val_accuracy: 0.9389\n",
      "Epoch 35/50\n",
      "204/204 [==============================] - 31s 153ms/step - loss: 0.0208 - accuracy: 0.9938 - val_loss: 0.3456 - val_accuracy: 0.9405\n",
      "Epoch 36/50\n",
      "204/204 [==============================] - 32s 155ms/step - loss: 0.0165 - accuracy: 0.9953 - val_loss: 0.3339 - val_accuracy: 0.9386\n",
      "Epoch 37/50\n",
      "204/204 [==============================] - 31s 154ms/step - loss: 0.0154 - accuracy: 0.9956 - val_loss: 0.3642 - val_accuracy: 0.9394\n",
      "Epoch 38/50\n",
      "204/204 [==============================] - 32s 156ms/step - loss: 0.0139 - accuracy: 0.9960 - val_loss: 0.3885 - val_accuracy: 0.9398\n",
      "Epoch 39/50\n",
      "204/204 [==============================] - 32s 157ms/step - loss: 0.0128 - accuracy: 0.9965 - val_loss: 0.4459 - val_accuracy: 0.9412\n",
      "Epoch 40/50\n",
      "204/204 [==============================] - 32s 157ms/step - loss: 0.0144 - accuracy: 0.9958 - val_loss: 0.4049 - val_accuracy: 0.9381\n",
      "Epoch 41/50\n",
      "204/204 [==============================] - 32s 156ms/step - loss: 0.0268 - accuracy: 0.9919 - val_loss: 0.3389 - val_accuracy: 0.9388\n",
      "Epoch 42/50\n",
      "204/204 [==============================] - 32s 156ms/step - loss: 0.0159 - accuracy: 0.9953 - val_loss: 0.3662 - val_accuracy: 0.9399\n",
      "Epoch 43/50\n",
      "204/204 [==============================] - 31s 154ms/step - loss: 0.0135 - accuracy: 0.9961 - val_loss: 0.3840 - val_accuracy: 0.9383\n",
      "Epoch 44/50\n",
      "204/204 [==============================] - 31s 153ms/step - loss: 0.0127 - accuracy: 0.9961 - val_loss: 0.4160 - val_accuracy: 0.9407\n",
      "Epoch 45/50\n",
      "204/204 [==============================] - 31s 153ms/step - loss: 0.0184 - accuracy: 0.9951 - val_loss: 0.3775 - val_accuracy: 0.9227\n",
      "Epoch 46/50\n",
      "204/204 [==============================] - 31s 153ms/step - loss: 0.0254 - accuracy: 0.9925 - val_loss: 0.3562 - val_accuracy: 0.9403\n",
      "Epoch 47/50\n",
      "204/204 [==============================] - 31s 153ms/step - loss: 0.0122 - accuracy: 0.9964 - val_loss: 0.3988 - val_accuracy: 0.9423\n",
      "Epoch 48/50\n",
      "204/204 [==============================] - 31s 153ms/step - loss: 0.0109 - accuracy: 0.9970 - val_loss: 0.3933 - val_accuracy: 0.9390\n",
      "Epoch 49/50\n",
      "204/204 [==============================] - 31s 154ms/step - loss: 0.0099 - accuracy: 0.9972 - val_loss: 0.4333 - val_accuracy: 0.9400\n",
      "Epoch 50/50\n",
      "204/204 [==============================] - 31s 153ms/step - loss: 0.0077 - accuracy: 0.9979 - val_loss: 0.4678 - val_accuracy: 0.9394\n"
     ]
    }
   ],
   "source": [
    "history = model_lstm.fit(train_padded, np.array(train_labels), batch_size=1024, epochs=50, \n",
    "                                validation_data=(test_padded, np.array(test_labels)), verbose=1, callbacks=[checkpoint])"
   ]
  },
  {
   "cell_type": "code",
   "execution_count": 35,
   "id": "2f13d22e-f7ea-4a12-80d3-2935713ccbb4",
   "metadata": {},
   "outputs": [
    {
     "data": {
      "image/png": "[encoded data removed]",
      "text/plain": [
       "<Figure size 640x480 with 1 Axes>"
      ]
     },
     "metadata": {},
     "output_type": "display_data"
    }
   ],
   "source": [
    "plot_graphs(history, 'accuracy')"
   ]
  },
  {
   "cell_type": "markdown",
   "id": "2adb0736-0160-4ece-a00e-0795bca0880b",
   "metadata": {},
   "source": [
    "We reached the best model around 8th epoch"
   ]
  },
  {
   "cell_type": "markdown",
   "id": "be7f25f4-cf2e-46d1-b807-3b16eea30698",
   "metadata": {},
   "source": [
    "# Make predictions"
   ]
  },
  {
   "cell_type": "markdown",
   "id": "d70798bd-df65-4653-a4a0-c0960467bb4f",
   "metadata": {},
   "source": [
    "Following examples were generated using chat-gpt"
   ]
  },
  {
   "cell_type": "code",
   "execution_count": 142,
   "id": "065ed854-8a8b-436c-a82f-af0c88f19a41",
   "metadata": {
    "tags": []
   },
   "outputs": [],
   "source": [
    "suicidal_thoughts = [\n",
    "    \"I can't keep living like this. Suicide seems like the only way out.\",\n",
    "    \"Everyone would be better off without me. I'm just a burden on others.\",\n",
    "    \"I don't want to suffer anymore. Ending my life would be a relief.\",\n",
    "    \"Life is too painful. I don't see any hope for the future.\",\n",
    "    \"I feel so hopeless and alone. Suicide is the only solution.\"\n",
    "]\n",
    "\n",
    "non_suicidal_thoughts = [\n",
    "    \"I'm excited for my vacation next month. It will be great to get away for a while.\",\n",
    "    \"I'm proud of myself for achieving my goals at work this year.\",\n",
    "    \"I love spending time with my family and friends. They bring so much joy to my life.\",\n",
    "    \"I enjoy exercising and taking care of my physical health.\",\n",
    "    \"I feel content when I'm reading a good book or listening to music.\"\n",
    "]\n",
    "\n",
    "neutral_thoughts = [\n",
    "    \"I need to go grocery shopping today and pick up some supplies.\",\n",
    "    \"The weather outside is nice and sunny.\",\n",
    "    \"I have a meeting at work in an hour. I need to prepare for it.\",\n",
    "    \"I'm thinking about what to make for dinner tonight.\",\n",
    "    \"I need to clean my house this weekend and do some laundry.\"\n",
    "]"
   ]
  },
  {
   "cell_type": "code",
   "execution_count": 63,
   "id": "abf90126-8860-4fbc-bac5-8818dc9fb9c9",
   "metadata": {},
   "outputs": [],
   "source": [
    "def remove_stop_words(s):\n",
    "    s = s.lower()\n",
    "    return [\" \".join([w for w in s.split() if w not in stop_words])]"
   ]
  },
  {
   "cell_type": "code",
   "execution_count": 3,
   "id": "200183f2-36be-4431-bd9b-2dd8c95e3f1d",
   "metadata": {},
   "outputs": [],
   "source": [
    "def load_tokernizer():\n",
    "    with open('tokenizer.pickle', 'rb') as f:\n",
    "        out = pickle.load(f)\n",
    "    return out"
   ]
  },
  {
   "cell_type": "code",
   "execution_count": 12,
   "id": "32613c56-8d86-4ec1-ae33-94a7c764dcb9",
   "metadata": {},
   "outputs": [],
   "source": [
    "tokenizer = load_tokernizer()"
   ]
  },
  {
   "cell_type": "code",
   "execution_count": 15,
   "id": "d49b2a77-1ba7-4afa-9ba0-e5b0bd1eff06",
   "metadata": {},
   "outputs": [],
   "source": [
    "max_length = 300"
   ]
  },
  {
   "cell_type": "code",
   "execution_count": 19,
   "id": "bd362a65-75a0-4e00-a147-02c2d824f9ce",
   "metadata": {},
   "outputs": [],
   "source": [
    "model = tf.keras.models.load_model('./best_model.h5')"
   ]
  },
  {
   "cell_type": "code",
   "execution_count": 65,
   "id": "a4539232-1623-406b-b698-73312ad87e00",
   "metadata": {},
   "outputs": [],
   "source": [
    "def predict_prob(text):\n",
    "    tokens = tokenizer.texts_to_sequences(remove_stop_words(text))\n",
    "    pad_seq = pad_sequences(tokens, maxlen=max_length, truncating=trunc_type)\n",
    "    return model.predict(pad_seq, verbose=0)[0][0]"
   ]
  },
  {
   "cell_type": "code",
   "execution_count": 70,
   "id": "7ef294ad-1bf8-4a6e-8c3d-1c767e12149b",
   "metadata": {},
   "outputs": [
    {
     "name": "stdout",
     "output_type": "stream",
     "text": [
      "I can't keep living like this. Suicide seems like the only way out. : 0.9835975766181946\n",
      "Everyone would be better off without me. I'm just a burden on others. : 0.9083202481269836\n",
      "I don't want to suffer anymore. Ending my life would be a relief. : 0.9828774929046631\n",
      "Life is too painful. I don't see any hope for the future. : 0.9008930325508118\n",
      "I feel so hopeless and alone. Suicide is the only solution. : 0.9921825528144836\n"
     ]
    }
   ],
   "source": [
    "for t in suicidal_thoughts:\n",
    "    print(f\"{t} : {predict_prob(t)}\")"
   ]
  },
  {
   "cell_type": "code",
   "execution_count": 71,
   "id": "b7be1251-7983-4002-b9e0-45cb9c9dafb4",
   "metadata": {},
   "outputs": [
    {
     "name": "stdout",
     "output_type": "stream",
     "text": [
      "I'm excited for my vacation next month. It will be great to get away for a while. : 0.24953334033489227\n",
      "I'm proud of myself for achieving my goals at work this year. : 0.01673825830221176\n",
      "I love spending time with my family and friends. They bring so much joy to my life. : 0.5349147319793701\n",
      "I enjoy exercising and taking care of my physical health. : 0.0475882850587368\n",
      "I feel content when I'm reading a good book or listening to music. : 0.020517263561487198\n"
     ]
    }
   ],
   "source": [
    "for t in non_suicidal_thoughts:\n",
    "    print(f\"{t} : {predict_prob(t)}\")"
   ]
  },
  {
   "cell_type": "code",
   "execution_count": 72,
   "id": "c1c8df16-be47-4364-99b4-0e7a4019b092",
   "metadata": {},
   "outputs": [
    {
     "name": "stdout",
     "output_type": "stream",
     "text": [
      "I need to go grocery shopping today and pick up some supplies. : 0.49093037843704224\n",
      "The weather outside is nice and sunny. : 0.057429488748311996\n",
      "I have a meeting at work in an hour. I need to prepare for it. : 0.023196812719106674\n",
      "I'm thinking about what to make for dinner tonight. : 0.5537188053131104\n",
      "I need to clean my house this weekend and do some laundry. : 0.019268695265054703\n"
     ]
    }
   ],
   "source": [
    "for t in neutral_thoughts:\n",
    "    print(f\"{t} : {predict_prob(t)}\")"
   ]
  },
  {
   "cell_type": "markdown",
   "id": "be5b0db9-c069-4c63-a431-48d6716a2203",
   "metadata": {},
   "source": [
    "Model is performing decently on unseen data with likelihood of suicide being greater than 90% in the case of suicidal thoughts"
   ]
  },
  {
   "cell_type": "markdown",
   "id": "59471733-7ddc-4fab-aeb8-ddd4d5236123",
   "metadata": {},
   "source": [
    "# Precision and Recall in test set"
   ]
  },
  {
   "cell_type": "code",
   "execution_count": 90,
   "id": "60189f63-85ab-47c4-bbaa-628194fe2da2",
   "metadata": {},
   "outputs": [
    {
     "name": "stdout",
     "output_type": "stream",
     "text": [
      "726/726 [==============================] - 15s 21ms/step\n"
     ]
    }
   ],
   "source": [
    "test_predictions = model.predict(test_padded)"
   ]
  },
  {
   "cell_type": "code",
   "execution_count": 98,
   "id": "c5bb6947-b97c-4ab3-8010-06107cb425bb",
   "metadata": {},
   "outputs": [],
   "source": [
    "test_predictions = test_predictions.flatten()"
   ]
  },
  {
   "cell_type": "code",
   "execution_count": 141,
   "id": "711daf7c-dd10-42da-833c-8c64ed865bb7",
   "metadata": {},
   "outputs": [
    {
     "data": {
      "image/png": "[encoded data removed]",
      "text/plain": [
       "<Figure size 640x480 with 2 Axes>"
      ]
     },
     "metadata": {},
     "output_type": "display_data"
    }
   ],
   "source": [
    "precision, recall, thresholds = precision_recall_curve(np.array(test_labels), test_predictions)\n",
    "thresholds = np.insert(thresholds, 0, 0)\n",
    "\n",
    "fig, ax1 = plt.subplots()\n",
    "\n",
    "# Plot the precision-recall curve on the left axis\n",
    "ax1.plot(recall, precision, color='blue', label='precision')\n",
    "ax1.set_xlabel('Recall')\n",
    "ax1.set_ylabel('Precision')\n",
    "ax1.set_title('Precision-Recall Curve')\n",
    "\n",
    "# Add threshold values on the right axis\n",
    "ax2 = ax1.twinx()\n",
    "ax2.plot(recall, thresholds, color='red', label='threshold')\n",
    "ax2.set_ylabel('Threshold')\n",
    "\n",
    "# Add a legend\n",
    "lines, labels = ax1.get_legend_handles_labels()\n",
    "lines2, labels2 = ax2.get_legend_handles_labels()\n",
    "ax1.legend(lines + lines2, labels + labels2, loc='best')\n",
    "ax2.grid()\n",
    "\n",
    "plt.show()"
   ]
  },
  {
   "cell_type": "markdown",
   "id": "69a9ee95-d9ac-46cd-8b7f-71080382f089",
   "metadata": {},
   "source": [
    "In this application, precision is more important to us, so that we do not create unwarranted panic. Therefore, still keeping recall also at a healthy level, a threshold **0.9** on predcition probabilties seems good enough"
   ]
  },
  {
   "cell_type": "code",
   "execution_count": null,
   "id": "e07f7b2b-4f1a-46e3-90ac-5e38ec10b984",
   "metadata": {},
   "outputs": [],
   "source": []
  }
 ],
 "metadata": {
  "kernelspec": {
   "display_name": "Python 3 (ipykernel)",
   "language": "python",
   "name": "python3"
  },
  "language_info": {
   "codemirror_mode": {
    "name": "ipython",
    "version": 3
   },
   "file_extension": ".py",
   "mimetype": "text/x-python",
   "name": "python",
   "nbconvert_exporter": "python",
   "pygments_lexer": "ipython3",
   "version": "3.9.15"
  }
 },
 "nbformat": 4,
 "nbformat_minor": 5
}
